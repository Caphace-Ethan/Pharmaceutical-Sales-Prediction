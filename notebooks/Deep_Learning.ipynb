{
 "cells": [
  {
   "cell_type": "markdown",
   "source": [
    "## 2.6 Building model with Deep Learning\n",
    "\n",
    "## Using Tensorflow to build model"
   ],
   "metadata": {}
  },
  {
   "cell_type": "markdown",
   "source": [
    "### Isolating Rossmann Store Sales dataset into time series data"
   ],
   "metadata": {}
  },
  {
   "cell_type": "code",
   "execution_count": 12,
   "source": [
    "# Importing Necessary Packages\n",
    "import warnings\n",
    "warnings.filterwarnings(\"ignore\")\n",
    "\n",
    "import time\n",
    "from datetime import date, timedelta, datetime\n",
    "import numpy as np\n",
    "import pandas as pd\n",
    "import matplotlib.pyplot as plt\n",
    "import seaborn as sns\n",
    "from pandas import datetime\n",
    "from pandas import Series,DataFrame\n",
    "from sklearn.preprocessing import MinMaxScaler\n",
    "\n",
    "# data visualization\n",
    "import matplotlib.pyplot as plt\n",
    "import seaborn as sns # advanced vizs\n",
    "%matplotlib inline\n",
    "import tensorflow as tf\n",
    "from tensorflow.keras.models import Sequential\n",
    "from tensorflow.keras.layers import Dense\n",
    "from tensorflow.keras.layers import LSTM\n",
    "from statsmodels.tsa.seasonal import seasonal_decompose\n",
    "from statsmodels.tsa.holtwinters import ExponentialSmoothing\n",
    "\n",
    "from statsmodels.tsa.stattools import adfuller\n",
    "from statsmodels.graphics.tsaplots import plot_acf, plot_pacf\n",
    "from statsmodels.tsa.seasonal import seasonal_decompose\n",
    "from statsmodels.tsa.holtwinters import ExponentialSmoothing\n",
    "from statsmodels.tsa.stattools import adfuller\n",
    "from statsmodels.graphics.tsaplots import plot_acf, plot_pacf\n",
    "from statsmodels.tsa.arima_model import ARIMA\n",
    "from statsmodels.tsa.statespace.sarimax import SARIMAX"
   ],
   "outputs": [],
   "metadata": {}
  },
  {
   "cell_type": "markdown",
   "source": [
    "## Setting Logging"
   ],
   "metadata": {}
  },
  {
   "cell_type": "code",
   "execution_count": 2,
   "source": [
    "import logging\n",
    "import logging.handlers\n",
    "import os\n",
    " \n",
    "handler = logging.handlers.WatchedFileHandler(\n",
    "    os.environ.get(\"LOGFILE\", \"../logs/deep_learning.log\"))\n",
    "formatter = logging.Formatter(logging.BASIC_FORMAT)\n",
    "handler.setFormatter(formatter)\n",
    "root = logging.getLogger()\n",
    "root.setLevel(os.environ.get(\"LOGLEVEL\", \"INFO\"))\n",
    "root.addHandler(handler)\n",
    "logging.info(\"Testing Loggings\") \n",
    "try:\n",
    "    exit(main())\n",
    "except Exception:\n",
    "    logging.exception(\"Exception in main()\")\n",
    "    exit(1)"
   ],
   "outputs": [],
   "metadata": {}
  },
  {
   "cell_type": "code",
   "execution_count": 5,
   "source": [
    "# Class to load the data\n",
    "class FetchData():\n",
    "    def __init__(self):\n",
    "        self.dfdict = {}\n",
    "        self.dfdict['train'] = self.get_train_data()\n",
    "        self.dfdict['test'] = self.get_test_data()\n",
    "        self.dfdict['store'] = self.get_store_data()\n",
    "        \n",
    "    def get_train_data(self,name='train'):\n",
    "        filename = f'../data/{name}.csv'\n",
    "        try:\n",
    "            df = pd.read_csv(filename)\n",
    "            logging.info(f\"{name} Dataset read successfully\")\n",
    "            return df\n",
    "\n",
    "        except Exception as e:\n",
    "            logging.exception(f\" Exception occured in reading dataset, {e}\")\n",
    "            return None\n",
    "    \n",
    "    def get_test_data(self,name='test'):\n",
    "        filename = f'../data/{name}.csv'        \n",
    "        try:\n",
    "            df = pd.read_csv(filename)\n",
    "            logging.info(f\"{name} Dataset read successfully\")\n",
    "            return df   \n",
    "\n",
    "        except Exception as e:\n",
    "            logging.exception(f\" Exception occured in reading dataset, {e}\")\n",
    "            return None\n",
    "        \n",
    "    def get_store_data(self,name='store'):\n",
    "        filename = f'../data/{name}.csv'        \n",
    "        try:\n",
    "            df = pd.read_csv(filename)\n",
    "            logging.info(f\"{name} Dataset read successfully\") \n",
    "            return df  \n",
    "\n",
    "        except Exception as e:\n",
    "            logging.exception(f\" Exception occured in reading dataset, {e}\")\n",
    "            return None "
   ],
   "outputs": [],
   "metadata": {}
  },
  {
   "cell_type": "code",
   "execution_count": 7,
   "source": [
    "data = FetchData()\n"
   ],
   "outputs": [],
   "metadata": {}
  },
  {
   "cell_type": "code",
   "execution_count": 8,
   "source": [
    "try:\n",
    "    train_data = data.get_train_data(\"train\")\n",
    "    train_store_data = data.get_train_data(\"train_store_data\")\n",
    "    test_data = data.get_train_data(\"test\")\n",
    "\n",
    "except Exception as e:\n",
    "    logging.exception(f\"Exception occured in loading dataset, Exception:{e}\")"
   ],
   "outputs": [],
   "metadata": {}
  },
  {
   "cell_type": "code",
   "execution_count": 17,
   "source": [
    "# temp_train_store_data.sample(4)\n",
    "rossmann_store_sales = pd.DataFrame()\n",
    "rossmann_store_sales['Date'] = train_data['Date']\n",
    "rossmann_store_sales['Sales'] = train_data['Sales']\n",
    "rossmann_store_sales.sample(4)"
   ],
   "outputs": [
    {
     "output_type": "execute_result",
     "data": {
      "text/plain": [
       "              Date  Sales\n",
       "349726  2014-09-01   8533\n",
       "481625  2014-04-26   6971\n",
       "372709  2014-08-08  10509\n",
       "612894  2013-12-29      0"
      ],
      "text/html": [
       "<div>\n",
       "<style scoped>\n",
       "    .dataframe tbody tr th:only-of-type {\n",
       "        vertical-align: middle;\n",
       "    }\n",
       "\n",
       "    .dataframe tbody tr th {\n",
       "        vertical-align: top;\n",
       "    }\n",
       "\n",
       "    .dataframe thead th {\n",
       "        text-align: right;\n",
       "    }\n",
       "</style>\n",
       "<table border=\"1\" class=\"dataframe\">\n",
       "  <thead>\n",
       "    <tr style=\"text-align: right;\">\n",
       "      <th></th>\n",
       "      <th>Date</th>\n",
       "      <th>Sales</th>\n",
       "    </tr>\n",
       "  </thead>\n",
       "  <tbody>\n",
       "    <tr>\n",
       "      <th>349726</th>\n",
       "      <td>2014-09-01</td>\n",
       "      <td>8533</td>\n",
       "    </tr>\n",
       "    <tr>\n",
       "      <th>481625</th>\n",
       "      <td>2014-04-26</td>\n",
       "      <td>6971</td>\n",
       "    </tr>\n",
       "    <tr>\n",
       "      <th>372709</th>\n",
       "      <td>2014-08-08</td>\n",
       "      <td>10509</td>\n",
       "    </tr>\n",
       "    <tr>\n",
       "      <th>612894</th>\n",
       "      <td>2013-12-29</td>\n",
       "      <td>0</td>\n",
       "    </tr>\n",
       "  </tbody>\n",
       "</table>\n",
       "</div>"
      ]
     },
     "metadata": {},
     "execution_count": 17
    }
   ],
   "metadata": {}
  },
  {
   "cell_type": "code",
   "execution_count": 18,
   "source": [
    "scaler = MinMaxScaler()\n",
    "try:\n",
    "    \n",
    "    scale = scaler.fit(rossmann_store_sales[['Sales']]) \n",
    "    # transform the training data column\n",
    "    rossmann_store_sales['Scaled_sales'] = scale.transform(rossmann_store_sales[['Sales']])\n",
    "    logging.info(f\"Changing non-numeric to numeric values, successfully\")\n",
    "\n",
    "except Exception as e:\n",
    "    print(e)\n",
    "    logging.exception(f\"Exception occured while changing non-numeric to numeric values, Exception:{e}\")"
   ],
   "outputs": [],
   "metadata": {}
  },
  {
   "cell_type": "code",
   "execution_count": 19,
   "source": [
    "rossmann_store_sales.sample(4)"
   ],
   "outputs": [
    {
     "output_type": "execute_result",
     "data": {
      "text/plain": [
       "              Date  Sales  Scaled_sales\n",
       "70572   2015-05-29   5024      0.120912\n",
       "118193  2015-04-16   9818      0.236288\n",
       "869105  2013-05-13   8262      0.198840\n",
       "905137  2013-04-11   3763      0.090563"
      ],
      "text/html": [
       "<div>\n",
       "<style scoped>\n",
       "    .dataframe tbody tr th:only-of-type {\n",
       "        vertical-align: middle;\n",
       "    }\n",
       "\n",
       "    .dataframe tbody tr th {\n",
       "        vertical-align: top;\n",
       "    }\n",
       "\n",
       "    .dataframe thead th {\n",
       "        text-align: right;\n",
       "    }\n",
       "</style>\n",
       "<table border=\"1\" class=\"dataframe\">\n",
       "  <thead>\n",
       "    <tr style=\"text-align: right;\">\n",
       "      <th></th>\n",
       "      <th>Date</th>\n",
       "      <th>Sales</th>\n",
       "      <th>Scaled_sales</th>\n",
       "    </tr>\n",
       "  </thead>\n",
       "  <tbody>\n",
       "    <tr>\n",
       "      <th>70572</th>\n",
       "      <td>2015-05-29</td>\n",
       "      <td>5024</td>\n",
       "      <td>0.120912</td>\n",
       "    </tr>\n",
       "    <tr>\n",
       "      <th>118193</th>\n",
       "      <td>2015-04-16</td>\n",
       "      <td>9818</td>\n",
       "      <td>0.236288</td>\n",
       "    </tr>\n",
       "    <tr>\n",
       "      <th>869105</th>\n",
       "      <td>2013-05-13</td>\n",
       "      <td>8262</td>\n",
       "      <td>0.198840</td>\n",
       "    </tr>\n",
       "    <tr>\n",
       "      <th>905137</th>\n",
       "      <td>2013-04-11</td>\n",
       "      <td>3763</td>\n",
       "      <td>0.090563</td>\n",
       "    </tr>\n",
       "  </tbody>\n",
       "</table>\n",
       "</div>"
      ]
     },
     "metadata": {},
     "execution_count": 19
    }
   ],
   "metadata": {}
  },
  {
   "cell_type": "markdown",
   "source": [
    "### Checking for Stationality"
   ],
   "metadata": {}
  },
  {
   "cell_type": "markdown",
   "source": [
    "### Step 1: Check Stationarity Before going any further into our analysis, our series has to be made stationary.\n",
    " - Stationarity is the property of exhibiting constant statistical properties (mean, variance, autocorrelation etc). if the mean of a tm increases over time, then it not stationary.\n",
    "\n",
    "### The mean across many time periods is only informative if the expected value is the same across time periods. If these population parameters can vary, what are we really estimating by taking an average across time?\n",
    "\n",
    "### Stationarity requires that the statistical properties must be the same across time, making the sample average a reasonable way to estimate them.\n",
    "### Methods to Check Stationarity\n",
    " ### 1 Plotting rolling statistics: plotting rolling mean and variance is a first good way to visually inspect our series. If the rolling statistics exhibit a clear trend (upwards or downwards) and show varying variance (increasing or decreasing amplitude), then you might conclude that the series is very likely not stationary.\n",
    "\n",
    " ### 2 ACF and PACF plots: An autocorrelation plot (ACF) represent the autocorrelation of the series with lags of itself. A partialACF plot represent the amount of correlation beetween a series and a lag of itself that is not explained by correlations at all lower-order lags Ideally, we want no corralation between the series and lags of itself. Graphically speaking, we would like all the spikes to fall in the blue region."
   ],
   "metadata": {}
  },
  {
   "cell_type": "code",
   "execution_count": 20,
   "source": [
    "# rossmann_store_sales.plot()\n",
    "rossmann_df = rossmann_store_sales[['Date', 'Sales']].set_index('Date')\n",
    "\n",
    "def test_stationarity(tm):\n",
    "    # plotting rolling statistics\n",
    "    rollmean = tm.rolling(window=30).mean()\n",
    "    rollstd = tm.rolling(window=30).std()\n",
    "    \n",
    "    plt.figure(figsize=(14, 6))\n",
    "    plt.plot(tm, color='skyblue', label='Original Series')\n",
    "    plt.plot(rollmean, color='black', label='Rolling Mean')\n",
    "    plt.plot(rollstd, color='red', label='Rolling Std')    \n",
    "    plt.legend(loc='best')\n",
    "    plt.xlabel('Date')\n",
    "    plt.ylabel('Sales')\n",
    "    plt.show()\n",
    "    # Augmented Dickey-Fuller Test\n",
    "    adfuller_test = adfuller(tm, autolag='AIC')\n",
    "    print('Test Statistics = {:.3f}'.format(adfuller_test[0]))\n",
    "    print('P-value = {:.3f}'.format(adfuller_test[1]))\n",
    "    print('Critical values :')\n",
    "    # for key, value in adfuller_test[4].items():\n",
    "    #     print('\\t{}: {} - The data is {} stationary with {}% confidence'.format(key, value,'' if adfuller_test[0] < value else 'not', 100 - int(key[:-1])))    \n",
    "    fig, ax = plt.subplots(2, figsize=(14,6))\n",
    "    ax[0] = plot_acf(tm, ax=ax[0], lags=20)\n",
    "    ax[1] = plot_pacf(tm, ax=ax[1], lags=20)\n",
    "\n",
    "test_stationarity(rossmann_df.Sales)"
   ],
   "outputs": [
    {
     "output_type": "display_data",
     "data": {
      "text/plain": [
       "<Figure size 1008x432 with 1 Axes>"
      ],
      "image/png": "[encoded data removed]"
     },
     "metadata": {
      "needs_background": "light"
     }
    }
   ],
   "metadata": {}
  },
  {
   "cell_type": "markdown",
   "source": [
    "### From the figure it can be deduced that, mean and standar deviation are almost "
   ],
   "metadata": {}
  },
  {
   "cell_type": "code",
   "execution_count": 1,
   "source": [
    "adfResult = adfuller(rossmann_store_sales.Sales.values, autolag='AIC')\n",
    "print(f'ADF Statistic: {adfResult[0]}')\n",
    "print(f'p-value: {adfResult[1]}')"
   ],
   "outputs": [
    {
     "output_type": "error",
     "ename": "NameError",
     "evalue": "name 'adfuller' is not defined",
     "traceback": [
      "\u001b[0;31m---------------------------------------------------------------------------\u001b[0m",
      "\u001b[0;31mNameError\u001b[0m                                 Traceback (most recent call last)",
      "\u001b[0;32m<ipython-input-1-e1ecff399eb2>\u001b[0m in \u001b[0;36m<module>\u001b[0;34m\u001b[0m\n\u001b[0;32m----> 1\u001b[0;31m \u001b[0madfResult\u001b[0m \u001b[0;34m=\u001b[0m \u001b[0madfuller\u001b[0m\u001b[0;34m(\u001b[0m\u001b[0mrossmann_store_sales\u001b[0m\u001b[0;34m.\u001b[0m\u001b[0mSales\u001b[0m\u001b[0;34m.\u001b[0m\u001b[0mvalues\u001b[0m\u001b[0;34m,\u001b[0m \u001b[0mautolag\u001b[0m\u001b[0;34m=\u001b[0m\u001b[0;34m'AIC'\u001b[0m\u001b[0;34m)\u001b[0m\u001b[0;34m\u001b[0m\u001b[0;34m\u001b[0m\u001b[0m\n\u001b[0m\u001b[1;32m      2\u001b[0m \u001b[0mprint\u001b[0m\u001b[0;34m(\u001b[0m\u001b[0;34mf'ADF Statistic: {adfResult[0]}'\u001b[0m\u001b[0;34m)\u001b[0m\u001b[0;34m\u001b[0m\u001b[0;34m\u001b[0m\u001b[0m\n\u001b[1;32m      3\u001b[0m \u001b[0mprint\u001b[0m\u001b[0;34m(\u001b[0m\u001b[0;34mf'p-value: {adfResult[1]}'\u001b[0m\u001b[0;34m)\u001b[0m\u001b[0;34m\u001b[0m\u001b[0;34m\u001b[0m\u001b[0m\n",
      "\u001b[0;31mNameError\u001b[0m: name 'adfuller' is not defined"
     ]
    }
   ],
   "metadata": {}
  },
  {
   "cell_type": "markdown",
   "source": [
    "### Transform the time series data into supervised learning data by creating a new y(target) column. For example as illustrated here in the Sliding Window For Time Series Data section"
   ],
   "metadata": {}
  }
 ],
 "metadata": {
  "orig_nbformat": 4,
  "language_info": {
   "name": "python",
   "version": "3.8.8",
   "mimetype": "text/x-python",
   "codemirror_mode": {
    "name": "ipython",
    "version": 3
   },
   "pygments_lexer": "ipython3",
   "nbconvert_exporter": "python",
   "file_extension": ".py"
  },
  "kernelspec": {
   "name": "python3",
   "display_name": "Python 3.8.8 64-bit ('base': conda)"
  },
  "interpreter": {
   "hash": "fc5b00bee59e553d508db9922ccda4ed2426092ffdded382ff87e02c7f5799df"
  }
 },
 "nbformat": 4,
 "nbformat_minor": 2
}