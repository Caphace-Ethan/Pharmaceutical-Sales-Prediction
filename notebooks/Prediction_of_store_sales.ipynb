{
 "cells": [
  {
   "cell_type": "markdown",
   "source": [
    "## Data Preprocessing"
   ],
   "metadata": {}
  },
  {
   "cell_type": "code",
   "execution_count": null,
   "source": [
    "# Importing Necessary Packages\n",
    "import warnings\n",
    "warnings.filterwarnings(\"ignore\")\n",
    "\n",
    "import time\n",
    "from datetime import date, timedelta, datetime\n",
    "import numpy as np\n",
    "import pandas as pd\n",
    "import statistics as st\n",
    "import scipy.stats as ss\n",
    "import matplotlib.pyplot as plt\n",
    "import seaborn as sns\n",
    "from pandas import datetime\n",
    "from pandas import Series,DataFrame\n",
    "\n",
    "# data visualization\n",
    "import matplotlib.pyplot as plt\n",
    "import seaborn as sns # advanced vizs\n",
    "%matplotlib inline"
   ],
   "outputs": [],
   "metadata": {}
  },
  {
   "cell_type": "markdown",
   "source": [
    "## Setting Logging"
   ],
   "metadata": {}
  },
  {
   "cell_type": "code",
   "execution_count": null,
   "source": [
    "import logging\n",
    "import logging.handlers\n",
    "import os\n",
    " \n",
    "handler = logging.handlers.WatchedFileHandler(\n",
    "    os.environ.get(\"LOGFILE\", \"../logs/prediction.log\"))\n",
    "formatter = logging.Formatter(logging.BASIC_FORMAT)\n",
    "handler.setFormatter(formatter)\n",
    "root = logging.getLogger()\n",
    "root.setLevel(os.environ.get(\"LOGLEVEL\", \"INFO\"))\n",
    "root.addHandler(handler)\n",
    "logging.info(\"Testing Loggings\") \n",
    "try:\n",
    "    exit(main())\n",
    "except Exception:\n",
    "    logging.exception(\"Exception in main()\")\n",
    "    exit(1)"
   ],
   "outputs": [],
   "metadata": {}
  }
 ],
 "metadata": {
  "orig_nbformat": 4,
  "language_info": {
   "name": "python",
   "version": "3.8.8"
  },
  "kernelspec": {
   "name": "python3",
   "display_name": "Python 3.8.8 64-bit ('base': conda)"
  },
  "interpreter": {
   "hash": "fc5b00bee59e553d508db9922ccda4ed2426092ffdded382ff87e02c7f5799df"
  }
 },
 "nbformat": 4,
 "nbformat_minor": 2
}